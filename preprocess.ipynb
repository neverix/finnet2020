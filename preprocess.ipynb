{
 "cells": [
  {
   "cell_type": "code",
   "execution_count": 1,
   "metadata": {},
   "outputs": [],
   "source": [
    "import pandas as pd\n",
    "import numpy as np"
   ]
  },
  {
   "cell_type": "code",
   "execution_count": 36,
   "metadata": {},
   "outputs": [],
   "source": [
    "np.random.seed(7777)"
   ]
  },
  {
   "cell_type": "code",
   "execution_count": 3,
   "metadata": {},
   "outputs": [
    {
     "data": {
      "text/html": [
       "<div>\n",
       "<style scoped>\n",
       "    .dataframe tbody tr th:only-of-type {\n",
       "        vertical-align: middle;\n",
       "    }\n",
       "\n",
       "    .dataframe tbody tr th {\n",
       "        vertical-align: top;\n",
       "    }\n",
       "\n",
       "    .dataframe thead th {\n",
       "        text-align: right;\n",
       "    }\n",
       "</style>\n",
       "<table border=\"1\" class=\"dataframe\">\n",
       "  <thead>\n",
       "    <tr style=\"text-align: right;\">\n",
       "      <th></th>\n",
       "      <th>id</th>\n",
       "    </tr>\n",
       "  </thead>\n",
       "  <tbody>\n",
       "    <tr>\n",
       "      <th>0</th>\n",
       "      <td>524354</td>\n",
       "    </tr>\n",
       "    <tr>\n",
       "      <th>1</th>\n",
       "      <td>61537</td>\n",
       "    </tr>\n",
       "    <tr>\n",
       "      <th>2</th>\n",
       "      <td>1142564</td>\n",
       "    </tr>\n",
       "    <tr>\n",
       "      <th>3</th>\n",
       "      <td>300432</td>\n",
       "    </tr>\n",
       "    <tr>\n",
       "      <th>4</th>\n",
       "      <td>83777</td>\n",
       "    </tr>\n",
       "    <tr>\n",
       "      <th>...</th>\n",
       "      <td>...</td>\n",
       "    </tr>\n",
       "    <tr>\n",
       "      <th>95</th>\n",
       "      <td>912470</td>\n",
       "    </tr>\n",
       "    <tr>\n",
       "      <th>96</th>\n",
       "      <td>1526265</td>\n",
       "    </tr>\n",
       "    <tr>\n",
       "      <th>97</th>\n",
       "      <td>52803</td>\n",
       "    </tr>\n",
       "    <tr>\n",
       "      <th>98</th>\n",
       "      <td>373737</td>\n",
       "    </tr>\n",
       "    <tr>\n",
       "      <th>99</th>\n",
       "      <td>1244877</td>\n",
       "    </tr>\n",
       "  </tbody>\n",
       "</table>\n",
       "<p>100 rows × 1 columns</p>\n",
       "</div>"
      ],
      "text/plain": [
       "         id\n",
       "0    524354\n",
       "1     61537\n",
       "2   1142564\n",
       "3    300432\n",
       "4     83777\n",
       "..      ...\n",
       "95   912470\n",
       "96  1526265\n",
       "97    52803\n",
       "98   373737\n",
       "99  1244877\n",
       "\n",
       "[100 rows x 1 columns]"
      ]
     },
     "execution_count": 3,
     "metadata": {},
     "output_type": "execute_result"
    }
   ],
   "source": [
    "ids = pd.read_csv(\"ids.csv\")\n",
    "ids"
   ]
  },
  {
   "cell_type": "code",
   "execution_count": 2,
   "metadata": {},
   "outputs": [
    {
     "data": {
      "text/html": [
       "<div>\n",
       "<style scoped>\n",
       "    .dataframe tbody tr th:only-of-type {\n",
       "        vertical-align: middle;\n",
       "    }\n",
       "\n",
       "    .dataframe tbody tr th {\n",
       "        vertical-align: top;\n",
       "    }\n",
       "\n",
       "    .dataframe thead th {\n",
       "        text-align: right;\n",
       "    }\n",
       "</style>\n",
       "<table border=\"1\" class=\"dataframe\">\n",
       "  <thead>\n",
       "    <tr style=\"text-align: right;\">\n",
       "      <th></th>\n",
       "      <th>id_1</th>\n",
       "      <th>id_2</th>\n",
       "      <th>value</th>\n",
       "      <th>n_transactions</th>\n",
       "    </tr>\n",
       "  </thead>\n",
       "  <tbody>\n",
       "    <tr>\n",
       "      <th>0</th>\n",
       "      <td>878327</td>\n",
       "      <td>1133997</td>\n",
       "      <td>478035.238733</td>\n",
       "      <td>277.747437</td>\n",
       "    </tr>\n",
       "    <tr>\n",
       "      <th>1</th>\n",
       "      <td>707356</td>\n",
       "      <td>1341541</td>\n",
       "      <td>442189.669684</td>\n",
       "      <td>80.997950</td>\n",
       "    </tr>\n",
       "    <tr>\n",
       "      <th>2</th>\n",
       "      <td>169982</td>\n",
       "      <td>494074</td>\n",
       "      <td>353097.929209</td>\n",
       "      <td>287.789650</td>\n",
       "    </tr>\n",
       "    <tr>\n",
       "      <th>3</th>\n",
       "      <td>551010</td>\n",
       "      <td>979933</td>\n",
       "      <td>537749.674840</td>\n",
       "      <td>426.743337</td>\n",
       "    </tr>\n",
       "    <tr>\n",
       "      <th>4</th>\n",
       "      <td>76064</td>\n",
       "      <td>597023</td>\n",
       "      <td>418990.198382</td>\n",
       "      <td>287.789650</td>\n",
       "    </tr>\n",
       "    <tr>\n",
       "      <th>...</th>\n",
       "      <td>...</td>\n",
       "      <td>...</td>\n",
       "      <td>...</td>\n",
       "      <td>...</td>\n",
       "    </tr>\n",
       "    <tr>\n",
       "      <th>4685639</th>\n",
       "      <td>533291</td>\n",
       "      <td>1134794</td>\n",
       "      <td>275822.479741</td>\n",
       "      <td>1.000000</td>\n",
       "    </tr>\n",
       "    <tr>\n",
       "      <th>4685640</th>\n",
       "      <td>929970</td>\n",
       "      <td>1378868</td>\n",
       "      <td>507684.088750</td>\n",
       "      <td>1.000000</td>\n",
       "    </tr>\n",
       "    <tr>\n",
       "      <th>4685641</th>\n",
       "      <td>45803</td>\n",
       "      <td>829031</td>\n",
       "      <td>318785.728608</td>\n",
       "      <td>1.000000</td>\n",
       "    </tr>\n",
       "    <tr>\n",
       "      <th>4685642</th>\n",
       "      <td>1266550</td>\n",
       "      <td>1448478</td>\n",
       "      <td>494106.825312</td>\n",
       "      <td>1.000000</td>\n",
       "    </tr>\n",
       "    <tr>\n",
       "      <th>4685643</th>\n",
       "      <td>44951</td>\n",
       "      <td>995849</td>\n",
       "      <td>362288.948265</td>\n",
       "      <td>1.000000</td>\n",
       "    </tr>\n",
       "  </tbody>\n",
       "</table>\n",
       "<p>4685644 rows × 4 columns</p>\n",
       "</div>"
      ],
      "text/plain": [
       "            id_1     id_2          value  n_transactions\n",
       "0         878327  1133997  478035.238733      277.747437\n",
       "1         707356  1341541  442189.669684       80.997950\n",
       "2         169982   494074  353097.929209      287.789650\n",
       "3         551010   979933  537749.674840      426.743337\n",
       "4          76064   597023  418990.198382      287.789650\n",
       "...          ...      ...            ...             ...\n",
       "4685639   533291  1134794  275822.479741        1.000000\n",
       "4685640   929970  1378868  507684.088750        1.000000\n",
       "4685641    45803   829031  318785.728608        1.000000\n",
       "4685642  1266550  1448478  494106.825312        1.000000\n",
       "4685643    44951   995849  362288.948265        1.000000\n",
       "\n",
       "[4685644 rows x 4 columns]"
      ]
     },
     "execution_count": 2,
     "metadata": {},
     "output_type": "execute_result"
    }
   ],
   "source": [
    "edges = pd.read_csv(\"edges.csv\")\n",
    "edges"
   ]
  },
  {
   "cell_type": "code",
   "execution_count": 4,
   "metadata": {},
   "outputs": [
    {
     "data": {
      "text/html": [
       "<div>\n",
       "<style scoped>\n",
       "    .dataframe tbody tr th:only-of-type {\n",
       "        vertical-align: middle;\n",
       "    }\n",
       "\n",
       "    .dataframe tbody tr th {\n",
       "        vertical-align: top;\n",
       "    }\n",
       "\n",
       "    .dataframe thead th {\n",
       "        text-align: right;\n",
       "    }\n",
       "</style>\n",
       "<table border=\"1\" class=\"dataframe\">\n",
       "  <thead>\n",
       "    <tr style=\"text-align: right;\">\n",
       "      <th></th>\n",
       "      <th>id</th>\n",
       "      <th>main_okved</th>\n",
       "      <th>region_code</th>\n",
       "      <th>company_type</th>\n",
       "    </tr>\n",
       "  </thead>\n",
       "  <tbody>\n",
       "    <tr>\n",
       "      <th>0</th>\n",
       "      <td>1</td>\n",
       "      <td>46.75</td>\n",
       "      <td>77</td>\n",
       "      <td>Limited</td>\n",
       "    </tr>\n",
       "    <tr>\n",
       "      <th>1</th>\n",
       "      <td>2</td>\n",
       "      <td>41.20</td>\n",
       "      <td>78</td>\n",
       "      <td>Limited</td>\n",
       "    </tr>\n",
       "    <tr>\n",
       "      <th>2</th>\n",
       "      <td>3</td>\n",
       "      <td>25.11</td>\n",
       "      <td>50</td>\n",
       "      <td>Limited</td>\n",
       "    </tr>\n",
       "    <tr>\n",
       "      <th>3</th>\n",
       "      <td>4</td>\n",
       "      <td>45.31</td>\n",
       "      <td>89</td>\n",
       "      <td>Limited</td>\n",
       "    </tr>\n",
       "    <tr>\n",
       "      <th>4</th>\n",
       "      <td>5</td>\n",
       "      <td>56.10</td>\n",
       "      <td>50</td>\n",
       "      <td>Limited</td>\n",
       "    </tr>\n",
       "    <tr>\n",
       "      <th>...</th>\n",
       "      <td>...</td>\n",
       "      <td>...</td>\n",
       "      <td>...</td>\n",
       "      <td>...</td>\n",
       "    </tr>\n",
       "    <tr>\n",
       "      <th>1534744</th>\n",
       "      <td>1534745</td>\n",
       "      <td>63.99</td>\n",
       "      <td>77</td>\n",
       "      <td>Individual</td>\n",
       "    </tr>\n",
       "    <tr>\n",
       "      <th>1534745</th>\n",
       "      <td>1534746</td>\n",
       "      <td>47.19</td>\n",
       "      <td>66</td>\n",
       "      <td>Individual</td>\n",
       "    </tr>\n",
       "    <tr>\n",
       "      <th>1534746</th>\n",
       "      <td>1534747</td>\n",
       "      <td>41.20</td>\n",
       "      <td>77</td>\n",
       "      <td>Individual</td>\n",
       "    </tr>\n",
       "    <tr>\n",
       "      <th>1534747</th>\n",
       "      <td>1534748</td>\n",
       "      <td>74.20</td>\n",
       "      <td>33</td>\n",
       "      <td>Individual</td>\n",
       "    </tr>\n",
       "    <tr>\n",
       "      <th>1534748</th>\n",
       "      <td>1534749</td>\n",
       "      <td>68.20</td>\n",
       "      <td>66</td>\n",
       "      <td>Individual</td>\n",
       "    </tr>\n",
       "  </tbody>\n",
       "</table>\n",
       "<p>1534749 rows × 4 columns</p>\n",
       "</div>"
      ],
      "text/plain": [
       "              id  main_okved  region_code company_type\n",
       "0              1       46.75           77      Limited\n",
       "1              2       41.20           78      Limited\n",
       "2              3       25.11           50      Limited\n",
       "3              4       45.31           89      Limited\n",
       "4              5       56.10           50      Limited\n",
       "...          ...         ...          ...          ...\n",
       "1534744  1534745       63.99           77   Individual\n",
       "1534745  1534746       47.19           66   Individual\n",
       "1534746  1534747       41.20           77   Individual\n",
       "1534747  1534748       74.20           33   Individual\n",
       "1534748  1534749       68.20           66   Individual\n",
       "\n",
       "[1534749 rows x 4 columns]"
      ]
     },
     "execution_count": 4,
     "metadata": {},
     "output_type": "execute_result"
    }
   ],
   "source": [
    "vertices = pd.read_csv(\"vertices.csv\")\n",
    "vertices"
   ]
  },
  {
   "cell_type": "code",
   "execution_count": 5,
   "metadata": {},
   "outputs": [
    {
     "data": {
      "text/html": [
       "<div>\n",
       "<style scoped>\n",
       "    .dataframe tbody tr th:only-of-type {\n",
       "        vertical-align: middle;\n",
       "    }\n",
       "\n",
       "    .dataframe tbody tr th {\n",
       "        vertical-align: top;\n",
       "    }\n",
       "\n",
       "    .dataframe thead th {\n",
       "        text-align: right;\n",
       "    }\n",
       "</style>\n",
       "<table border=\"1\" class=\"dataframe\">\n",
       "  <thead>\n",
       "    <tr style=\"text-align: right;\">\n",
       "      <th></th>\n",
       "      <th>id_1</th>\n",
       "      <th>id_2</th>\n",
       "    </tr>\n",
       "  </thead>\n",
       "  <tbody>\n",
       "    <tr>\n",
       "      <th>108</th>\n",
       "      <td>524354</td>\n",
       "      <td>958357</td>\n",
       "    </tr>\n",
       "    <tr>\n",
       "      <th>194</th>\n",
       "      <td>80484</td>\n",
       "      <td>319548</td>\n",
       "    </tr>\n",
       "    <tr>\n",
       "      <th>309</th>\n",
       "      <td>776150</td>\n",
       "      <td>786322</td>\n",
       "    </tr>\n",
       "    <tr>\n",
       "      <th>312</th>\n",
       "      <td>524354</td>\n",
       "      <td>1096103</td>\n",
       "    </tr>\n",
       "    <tr>\n",
       "      <th>342</th>\n",
       "      <td>776150</td>\n",
       "      <td>1300786</td>\n",
       "    </tr>\n",
       "    <tr>\n",
       "      <th>...</th>\n",
       "      <td>...</td>\n",
       "      <td>...</td>\n",
       "    </tr>\n",
       "    <tr>\n",
       "      <th>4685417</th>\n",
       "      <td>263624</td>\n",
       "      <td>567406</td>\n",
       "    </tr>\n",
       "    <tr>\n",
       "      <th>4685449</th>\n",
       "      <td>41216</td>\n",
       "      <td>328439</td>\n",
       "    </tr>\n",
       "    <tr>\n",
       "      <th>4685479</th>\n",
       "      <td>41216</td>\n",
       "      <td>635885</td>\n",
       "    </tr>\n",
       "    <tr>\n",
       "      <th>4685507</th>\n",
       "      <td>410574</td>\n",
       "      <td>1523148</td>\n",
       "    </tr>\n",
       "    <tr>\n",
       "      <th>4685521</th>\n",
       "      <td>640944</td>\n",
       "      <td>1449562</td>\n",
       "    </tr>\n",
       "  </tbody>\n",
       "</table>\n",
       "<p>84142 rows × 2 columns</p>\n",
       "</div>"
      ],
      "text/plain": [
       "           id_1     id_2\n",
       "108      524354   958357\n",
       "194       80484   319548\n",
       "309      776150   786322\n",
       "312      524354  1096103\n",
       "342      776150  1300786\n",
       "...         ...      ...\n",
       "4685417  263624   567406\n",
       "4685449   41216   328439\n",
       "4685479   41216   635885\n",
       "4685507  410574  1523148\n",
       "4685521  640944  1449562\n",
       "\n",
       "[84142 rows x 2 columns]"
      ]
     },
     "execution_count": 5,
     "metadata": {},
     "output_type": "execute_result"
    }
   ],
   "source": [
    "edges[edges.id_1.isin(ids.id) | edges.id_2.isin(ids.id)][[\"id_1\", \"id_2\"]]"
   ]
  },
  {
   "cell_type": "code",
   "execution_count": 6,
   "metadata": {},
   "outputs": [
    {
     "data": {
      "text/plain": [
       "False"
      ]
     },
     "execution_count": 6,
     "metadata": {},
     "output_type": "execute_result"
    }
   ],
   "source": [
    "(edges[\"id_1\"] > edges[\"id_2\"]).any()"
   ]
  },
  {
   "cell_type": "code",
   "execution_count": 7,
   "metadata": {},
   "outputs": [
    {
     "data": {
      "text/plain": [
       "RangeIndex(start=0, stop=1534749, step=1)"
      ]
     },
     "execution_count": 7,
     "metadata": {},
     "output_type": "execute_result"
    }
   ],
   "source": [
    "vertices.index"
   ]
  },
  {
   "cell_type": "code",
   "execution_count": 8,
   "metadata": {},
   "outputs": [],
   "source": [
    "from matplotlib import pyplot as plt"
   ]
  },
  {
   "cell_type": "code",
   "execution_count": 9,
   "metadata": {},
   "outputs": [
    {
     "data": {
      "image/png": "[encoded data removed]",
      "text/plain": [
       "<Figure size 432x288 with 1 Axes>"
      ]
     },
     "metadata": {
      "needs_background": "light"
     },
     "output_type": "display_data"
    },
    {
     "data": {
      "image/png": "[encoded data removed]",
      "text/plain": [
       "<Figure size 432x288 with 1 Axes>"
      ]
     },
     "metadata": {
      "needs_background": "light"
     },
     "output_type": "display_data"
    },
    {
     "data": {
      "text/plain": [
       "([<matplotlib.lines.Line2D at 0x7efbd198f250>], None)"
      ]
     },
     "execution_count": 9,
     "metadata": {},
     "output_type": "execute_result"
    }
   ],
   "source": [
    "def gendist(df, col):\n",
    "    return df[col].sort_values().reset_index()[col]\n",
    "plt.plot(gendist(edges, \"n_transactions\")), plt.show()\n",
    "plt.plot(gendist(edges, \"value\")), plt.show()"
   ]
  },
  {
   "cell_type": "code",
   "execution_count": 10,
   "metadata": {},
   "outputs": [
    {
     "data": {
      "text/plain": [
       "[<matplotlib.lines.Line2D at 0x7efbd18f9b90>]"
      ]
     },
     "execution_count": 10,
     "metadata": {},
     "output_type": "execute_result"
    },
    {
     "data": {
      "image/png": "[encoded data removed]",
      "text/plain": [
       "<Figure size 432x288 with 1 Axes>"
      ]
     },
     "metadata": {
      "needs_background": "light"
     },
     "output_type": "display_data"
    }
   ],
   "source": [
    "def normalize(df, col, by=\"value\"):\n",
    "    dist = df.sort_values(by=[col, by])[col].reset_index()\n",
    "    return (dist[\"index\"].rename(col) + 1) / len(df)\n",
    "plt.plot(normalize(edges, \"n_transactions\").sort_values().reset_index()[\"n_transactions\"])"
   ]
  },
  {
   "cell_type": "code",
   "execution_count": 11,
   "metadata": {},
   "outputs": [
    {
     "data": {
      "text/plain": [
       "[<matplotlib.lines.Line2D at 0x7efbc7d1e190>]"
      ]
     },
     "execution_count": 11,
     "metadata": {},
     "output_type": "execute_result"
    },
    {
     "data": {
      "image/png": "[encoded data removed]",
      "text/plain": [
       "<Figure size 432x288 with 1 Axes>"
      ]
     },
     "metadata": {
      "needs_background": "light"
     },
     "output_type": "display_data"
    }
   ],
   "source": [
    "plt.plot((normalize(edges, \"value\") * normalize(edges, \"n_transactions\")).sort_values().reset_index()[0])"
   ]
  },
  {
   "cell_type": "code",
   "execution_count": 44,
   "metadata": {},
   "outputs": [
    {
     "data": {
      "text/plain": [
       "(             id_1     id_2\n",
       " 0          878327  1133997\n",
       " 1          707356  1341541\n",
       " 2          169982   494074\n",
       " 3          551010   979933\n",
       " 4           76064   597023\n",
       " ...           ...      ...\n",
       " 10824635    29816  1534745\n",
       " 10824636   929410  1534746\n",
       " 10824637  1020125  1534747\n",
       " 10824638   866882  1534748\n",
       " 10824639   497129  1534749\n",
       " \n",
       " [10824640 rows x 2 columns],             y\n",
       " 0         1.0\n",
       " 1         1.0\n",
       " 2         1.0\n",
       " 3         1.0\n",
       " 4         1.0\n",
       " ...       ...\n",
       " 10824635  0.0\n",
       " 10824636  0.0\n",
       " 10824637  0.0\n",
       " 10824638  0.0\n",
       " 10824639  0.0\n",
       " \n",
       " [10824640 rows x 1 columns],                  0\n",
       " 0         1.000130\n",
       " 1         1.000156\n",
       " 2         1.000216\n",
       " 3         1.000482\n",
       " 4         1.000955\n",
       " ...            ...\n",
       " 10824635  1.000000\n",
       " 10824636  1.000000\n",
       " 10824637  1.000000\n",
       " 10824638  1.000000\n",
       " 10824639  1.000000\n",
       " \n",
       " [10824640 rows x 1 columns])"
      ]
     },
     "execution_count": 44,
     "metadata": {},
     "output_type": "execute_result"
    }
   ],
   "source": [
    "edges_weight = 4\n",
    "iters = 4\n",
    "\n",
    "def train_data(iters=iters):\n",
    "    xs = []\n",
    "    ys = []\n",
    "    ws = []\n",
    "    xs.append(edges[[\"id_1\", \"id_2\"]])\n",
    "    ys.append(pd.Series(np.ones(len(edges)), name=\"y\"))\n",
    "    ws.append(normalize(edges, \"value\") * normalize(edges, \"n_transactions\") * edges_weight + 1)\n",
    "    for i in range(iters):\n",
    "        other = pd.Series(np.random.randint(1, len(vertices) + 1, size=len(vertices))).rename(\"id_2\")\n",
    "        train_edges = pd.concat([vertices.id.rename(\"id_1\"), other], axis=1)\n",
    "        train_edges.values.sort()\n",
    "        xs.append(train_edges)\n",
    "        ys.append(pd.Series(np.zeros(len(vertices)), name=\"y\"))\n",
    "        ws.append(pd.Series(np.ones(len(vertices)), name=\"w\"))\n",
    "    concat = lambda its: pd.concat(its).reset_index().drop(columns=\"index\")\n",
    "    return concat(xs), concat(ys), concat(ws)\n",
    "xΔ, y, w = train_data()\n",
    "xΔ, y, w"
   ]
  },
  {
   "cell_type": "code",
   "execution_count": 45,
   "metadata": {},
   "outputs": [
    {
     "data": {
      "text/html": [
       "<div>\n",
       "<style scoped>\n",
       "    .dataframe tbody tr th:only-of-type {\n",
       "        vertical-align: middle;\n",
       "    }\n",
       "\n",
       "    .dataframe tbody tr th {\n",
       "        vertical-align: top;\n",
       "    }\n",
       "\n",
       "    .dataframe thead th {\n",
       "        text-align: right;\n",
       "    }\n",
       "</style>\n",
       "<table border=\"1\" class=\"dataframe\">\n",
       "  <thead>\n",
       "    <tr style=\"text-align: right;\">\n",
       "      <th></th>\n",
       "      <th>main_okved_1</th>\n",
       "      <th>region_code_1</th>\n",
       "      <th>company_type_1</th>\n",
       "      <th>main_okved_2</th>\n",
       "      <th>region_code_2</th>\n",
       "      <th>company_type_2</th>\n",
       "    </tr>\n",
       "  </thead>\n",
       "  <tbody>\n",
       "    <tr>\n",
       "      <th>0</th>\n",
       "      <td>682</td>\n",
       "      <td>23</td>\n",
       "      <td>Individual</td>\n",
       "      <td>4759</td>\n",
       "      <td>23</td>\n",
       "      <td>Individual</td>\n",
       "    </tr>\n",
       "    <tr>\n",
       "      <th>1</th>\n",
       "      <td>4399</td>\n",
       "      <td>59</td>\n",
       "      <td>Individual</td>\n",
       "      <td>4759</td>\n",
       "      <td>23</td>\n",
       "      <td>Individual</td>\n",
       "    </tr>\n",
       "    <tr>\n",
       "      <th>2</th>\n",
       "      <td>469</td>\n",
       "      <td>23</td>\n",
       "      <td>Limited</td>\n",
       "      <td>4759</td>\n",
       "      <td>23</td>\n",
       "      <td>Individual</td>\n",
       "    </tr>\n",
       "    <tr>\n",
       "      <th>3</th>\n",
       "      <td>4643</td>\n",
       "      <td>23</td>\n",
       "      <td>Limited</td>\n",
       "      <td>4759</td>\n",
       "      <td>23</td>\n",
       "      <td>Individual</td>\n",
       "    </tr>\n",
       "    <tr>\n",
       "      <th>4</th>\n",
       "      <td>7711</td>\n",
       "      <td>78</td>\n",
       "      <td>Individual</td>\n",
       "      <td>4759</td>\n",
       "      <td>23</td>\n",
       "      <td>Individual</td>\n",
       "    </tr>\n",
       "    <tr>\n",
       "      <th>...</th>\n",
       "      <td>...</td>\n",
       "      <td>...</td>\n",
       "      <td>...</td>\n",
       "      <td>...</td>\n",
       "      <td>...</td>\n",
       "      <td>...</td>\n",
       "    </tr>\n",
       "    <tr>\n",
       "      <th>10824635</th>\n",
       "      <td>9001</td>\n",
       "      <td>74</td>\n",
       "      <td>NonComm</td>\n",
       "      <td>8122</td>\n",
       "      <td>66</td>\n",
       "      <td>Individual</td>\n",
       "    </tr>\n",
       "    <tr>\n",
       "      <th>10824636</th>\n",
       "      <td>869</td>\n",
       "      <td>23</td>\n",
       "      <td>Limited</td>\n",
       "      <td>9602</td>\n",
       "      <td>23</td>\n",
       "      <td>Individual</td>\n",
       "    </tr>\n",
       "    <tr>\n",
       "      <th>10824637</th>\n",
       "      <td>4932</td>\n",
       "      <td>72</td>\n",
       "      <td>Individual</td>\n",
       "      <td>452</td>\n",
       "      <td>50</td>\n",
       "      <td>Limited</td>\n",
       "    </tr>\n",
       "    <tr>\n",
       "      <th>10824638</th>\n",
       "      <td>4932</td>\n",
       "      <td>66</td>\n",
       "      <td>Individual</td>\n",
       "      <td>7022</td>\n",
       "      <td>55</td>\n",
       "      <td>Individual</td>\n",
       "    </tr>\n",
       "    <tr>\n",
       "      <th>10824639</th>\n",
       "      <td>4771</td>\n",
       "      <td>64</td>\n",
       "      <td>Individual</td>\n",
       "      <td>8512</td>\n",
       "      <td>33</td>\n",
       "      <td>NonComm</td>\n",
       "    </tr>\n",
       "  </tbody>\n",
       "</table>\n",
       "<p>10824640 rows × 6 columns</p>\n",
       "</div>"
      ],
      "text/plain": [
       "          main_okved_1  region_code_1 company_type_1  main_okved_2  \\\n",
       "0                  682             23     Individual          4759   \n",
       "1                 4399             59     Individual          4759   \n",
       "2                  469             23        Limited          4759   \n",
       "3                 4643             23        Limited          4759   \n",
       "4                 7711             78     Individual          4759   \n",
       "...                ...            ...            ...           ...   \n",
       "10824635          9001             74        NonComm          8122   \n",
       "10824636           869             23        Limited          9602   \n",
       "10824637          4932             72     Individual           452   \n",
       "10824638          4932             66     Individual          7022   \n",
       "10824639          4771             64     Individual          8512   \n",
       "\n",
       "          region_code_2 company_type_2  \n",
       "0                    23     Individual  \n",
       "1                    23     Individual  \n",
       "2                    23     Individual  \n",
       "3                    23     Individual  \n",
       "4                    23     Individual  \n",
       "...                 ...            ...  \n",
       "10824635             66     Individual  \n",
       "10824636             23     Individual  \n",
       "10824637             50        Limited  \n",
       "10824638             55     Individual  \n",
       "10824639             33        NonComm  \n",
       "\n",
       "[10824640 rows x 6 columns]"
      ]
     },
     "execution_count": 45,
     "metadata": {},
     "output_type": "execute_result"
    }
   ],
   "source": [
    "def preprocess_data(edges):\n",
    "    verts = vertices.copy()\n",
    "    verts[\"main_okved\"] = verts[\"main_okved\"].astype(\"str\").str.replace('.', '').astype(\"int\")\n",
    "    x1 = edges.merge(verts, left_on=\"id_1\", right_on=\"id\")\n",
    "    x2 = x1.merge(verts, left_on=\"id_2\", right_on=\"id\", suffixes=(\"_1\", \"_2\")).drop([\"id_1\", \"id_2\"], axis=1)\n",
    "    return x2\n",
    "x = preprocess_data(xΔ)\n",
    "x"
   ]
  },
  {
   "cell_type": "code",
   "execution_count": null,
   "metadata": {},
   "outputs": [],
   "source": []
  }
 ],
 "metadata": {
  "kernelspec": {
   "display_name": "Python 3",
   "language": "python",
   "name": "python3"
  },
  "language_info": {
   "codemirror_mode": {
    "name": "ipython",
    "version": 3
   },
   "file_extension": ".py",
   "mimetype": "text/x-python",
   "name": "python",
   "nbconvert_exporter": "python",
   "pygments_lexer": "ipython3",
   "version": "3.7.5"
  }
 },
 "nbformat": 4,
 "nbformat_minor": 4
}
